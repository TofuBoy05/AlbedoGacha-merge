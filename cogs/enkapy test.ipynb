{
 "cells": [
  {
   "cell_type": "code",
   "execution_count": 1,
   "metadata": {},
   "outputs": [],
   "source": [
    "import os\n",
    "import discord\n",
    "from discord.ext import commands\n",
    "from dotenv import load_dotenv\n",
    "load_dotenv()\n",
    "import pyrebase\n",
    "from urllib.request import Request, urlopen\n",
    "import genshin\n",
    "import asyncio\n",
    "import time\n",
    "from enkanetwork import EnkaNetworkAPI"
   ]
  },
  {
   "cell_type": "code",
   "execution_count": 2,
   "metadata": {},
   "outputs": [],
   "source": [
    "service = {\n",
    "    \n",
    "  \"type\": \"service_account\",\n",
    "  \"project_id\": os.getenv('project_id'),\n",
    "  \"private_key_id\": os.getenv('private_key_id'),\n",
    "  \"private_key\": os.getenv('private_key'),\n",
    "  \"client_email\": os.getenv('client_email'),\n",
    "  \"client_id\": os.getenv('client_id'),\n",
    "  \"auth_uri\": os.getenv('auth_uri'),\n",
    "  \"token_uri\": os.getenv('token_uri'),\n",
    "  \"auth_provider_x509_cert_url\": os.getenv('auth_provider_x509_cert_url'),\n",
    "  \"client_x509_cert_url\": os.getenv('client_x509_cert_url')\n",
    "}\n",
    "\n",
    "config = {\n",
    "    'apiKey': os.getenv('apiKey'),\n",
    "    'authDomain': os.getenv('authDomain'),\n",
    "    'projectId': os.getenv('projectId'),\n",
    "    'storageBucket': os.getenv('storageBucket'),\n",
    "    'messagingSenderId': os.getenv('messagingSenderId'),\n",
    "    'appId': os.getenv('appId'),\n",
    "    'measurementId': os.getenv('measurementId'),\n",
    "    'databaseURL': os.getenv('databaseURL'),\n",
    "    \"serviceAccount\": service\n",
    "\n",
    "} \n",
    "\n",
    "firebase = pyrebase.initialize_app(config)\n",
    "database = firebase.database()"
   ]
  },
  {
   "cell_type": "code",
   "execution_count": null,
   "metadata": {},
   "outputs": [],
   "source": [
    "enka = EnkaNetworkAPI()\n",
    "\n",
    "async def main():\n",
    "    async with enka:\n",
    "        data = await enka.fetch_user(813180074)\n",
    "        print(\"=== Player Info ===\")\n",
    "        print(f\"Nickname: {data.player.nickname}\")\n",
    "        print(f\"Level: {data.player.level}\")\n",
    "        print(f\"Icon: {data.player.icon.url}\")\n",
    "        print(f\"Signature: {data.player.signature}\")\n",
    "        print(f\"Achievement: {data.player.achievement}\")\n",
    "        print(f\"Abyss floor: {data.player.abyss_floor} - {data.player.abyss_room}\")\n",
    "        print(f\"Cache timeout: {data.ttl}\")\n",
    "\n",
    "asyncio.run(main())"
   ]
  }
 ],
 "metadata": {
  "kernelspec": {
   "display_name": "Python 3",
   "language": "python",
   "name": "python3"
  },
  "language_info": {
   "codemirror_mode": {
    "name": "ipython",
    "version": 3
   },
   "file_extension": ".py",
   "mimetype": "text/x-python",
   "name": "python",
   "nbconvert_exporter": "python",
   "pygments_lexer": "ipython3",
   "version": "3.9.0"
  },
  "orig_nbformat": 4,
  "vscode": {
   "interpreter": {
    "hash": "81794d4967e6c3204c66dcd87b604927b115b27c00565d3d43f05ba2f3a2cb0d"
   }
  }
 },
 "nbformat": 4,
 "nbformat_minor": 2
}
