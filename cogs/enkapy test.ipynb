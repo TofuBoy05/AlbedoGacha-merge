{
 "cells": [
  {
   "cell_type": "code",
   "execution_count": 1,
   "metadata": {},
   "outputs": [],
   "source": [
    "import os\n",
    "import discord\n",
    "from discord.ext import commands\n",
    "from dotenv import load_dotenv\n",
    "load_dotenv()\n",
    "import pyrebase\n",
    "from urllib.request import Request, urlopen\n",
    "import genshin\n",
    "import asyncio\n",
    "import time\n",
    "from enkanetwork import EnkaNetworkAPI"
   ]
  },
  {
   "cell_type": "code",
   "execution_count": 2,
   "metadata": {},
   "outputs": [],
   "source": [
    "service = {\n",
    "    \n",
    "  \"type\": \"service_account\",\n",
    "  \"project_id\": os.getenv('project_id'),\n",
    "  \"private_key_id\": os.getenv('private_key_id'),\n",
    "  \"private_key\": os.getenv('private_key'),\n",
    "  \"client_email\": os.getenv('client_email'),\n",
    "  \"client_id\": os.getenv('client_id'),\n",
    "  \"auth_uri\": os.getenv('auth_uri'),\n",
    "  \"token_uri\": os.getenv('token_uri'),\n",
    "  \"auth_provider_x509_cert_url\": os.getenv('auth_provider_x509_cert_url'),\n",
    "  \"client_x509_cert_url\": os.getenv('client_x509_cert_url')\n",
    "}\n",
    "\n",
    "config = {\n",
    "    'apiKey': os.getenv('apiKey'),\n",
    "    'authDomain': os.getenv('authDomain'),\n",
    "    'projectId': os.getenv('projectId'),\n",
    "    'storageBucket': os.getenv('storageBucket'),\n",
    "    'messagingSenderId': os.getenv('messagingSenderId'),\n",
    "    'appId': os.getenv('appId'),\n",
    "    'measurementId': os.getenv('measurementId'),\n",
    "    'databaseURL': os.getenv('databaseURL'),\n",
    "    \"serviceAccount\": service\n",
    "\n",
    "} \n",
    "\n",
    "firebase = pyrebase.initialize_app(config)\n",
    "database = firebase.database()"
   ]
  },
  {
   "cell_type": "code",
   "execution_count": null,
   "metadata": {},
   "outputs": [],
   "source": []
  },
  {
   "cell_type": "code",
   "execution_count": 71,
   "metadata": {},
   "outputs": [
    {
     "name": "stdout",
     "output_type": "stream",
     "text": [
      "756246647377232043\n",
      "397997211461353473\n",
      "829654006242213929\n",
      "617038709933735946\n",
      "394286300816998410\n",
      "766894363095597066\n",
      "424751908658610179\n",
      "537961218514747402\n",
      "751392177397039204\n",
      "424726355977175040\n",
      "827050678689988649\n",
      "305711404747587585\n",
      "760400724596883507\n",
      "810322903820271617\n",
      "459655669889630209\n",
      "733487742255890542\n",
      "510999642687799297\n",
      "910432700421259274\n"
     ]
    }
   ],
   "source": [
    "data = database.child('boon').child('cvlb').get().val()\n",
    "lb_data = {}\n",
    "for user in data:\n",
    "    cvs = list(data[user])\n",
    "    cvs.remove('username')\n",
    "    highest = cvs.pop()\n",
    "    # print(f\"======={data[user]['username']}=======\")\n",
    "    character = data[user][highest]\n",
    "    # print(character['Name'])\n",
    "    # print(character['cv'])\n",
    "    lb_data.update({user:{\n",
    "                    'cv': highest,\n",
    "                    'character': character['Name']}})\n",
    "\n",
    "sorted_data = sorted(lb_data.items(), key=lambda x: int(x[1]['cv']), reverse=True)\n",
    "# print(sorted_data)\n",
    "for _ in sorted_data:\n",
    "    print(_[0])"
   ]
  },
  {
   "cell_type": "code",
   "execution_count": null,
   "metadata": {},
   "outputs": [
    {
     "name": "stdout",
     "output_type": "stream",
     "text": [
      "Rank 1: User  459655669889630209 - Total Crit: 79.2%, Total CritDMG: 186.3%\n",
      "Rank 2: User 829654006242213929 - Total Crit: 70.7%, Total CritDMG: 206.7%\n"
     ]
    }
   ],
   "source": [
    "user_totals = {}\n",
    "\n",
    "# Loop through each user in the OrderedDict\n",
    "for user_id, user_data in my_ordered_dict.items():\n",
    "    # Initialize a dictionary to store the total Crit and CritDMG for each character for this user\n",
    "    user_character_totals = {}\n",
    "\n",
    "    # Loop through each character for this user\n",
    "    for character_name, character_data in user_data.items():\n",
    "        # Add up the Crit and CritDMG for this character\n",
    "        crit_total = float(character_data['Crit'][:-1])\n",
    "        critdmg_total = float(character_data['CritDMG'][:-1])\n",
    "        if character_name in user_character_totals:\n",
    "            user_character_totals[character_name]['Crit'] += crit_total\n",
    "            user_character_totals[character_name]['CritDMG'] += critdmg_total\n",
    "        else:\n",
    "            user_character_totals[character_name] = {'Crit': crit_total, 'CritDMG': critdmg_total}\n",
    "\n",
    "    # Determine the character with the highest total Crit and CritDMG for this user\n",
    "    max_crit_character = max(user_character_totals, key=lambda x: user_character_totals[x]['Crit'])\n",
    "    max_critdmg_character = max(user_character_totals, key=lambda x: user_character_totals[x]['CritDMG'])\n",
    "\n",
    "    # Add this user's total Crit and CritDMG for the max crit and critdmg characters to the user_totals dictionary\n",
    "    if user_id in user_totals:\n",
    "        user_totals[user_id]['Crit'] += user_character_totals[max_crit_character]['Crit']\n",
    "        user_totals[user_id]['CritDMG'] += user_character_totals[max_critdmg_character]['CritDMG']\n",
    "    else:\n",
    "        user_totals[user_id] = {'Crit': user_character_totals[max_crit_character]['Crit'], 'CritDMG': user_character_totals[max_critdmg_character]['CritDMG']}\n",
    "\n",
    "# Sort the user_totals dictionary by highest Crit and CritDMG total and print the results\n",
    "ranked_users = sorted(user_totals.items(), key=lambda x: (x[1]['Crit'], x[1]['CritDMG']), reverse=True)\n",
    "for i, (user_id, user_total) in enumerate(ranked_users):\n",
    "    print(f\"Rank {i+1}: User {user_id} - Total Crit: {user_total['Crit']:.1f}%, Total CritDMG: {user_total['CritDMG']:.1f}%\")"
   ]
  },
  {
   "cell_type": "code",
   "execution_count": null,
   "metadata": {},
   "outputs": [
    {
     "ename": "IndentationError",
     "evalue": "expected an indented block (3314929280.py, line 3)",
     "output_type": "error",
     "traceback": [
      "\u001b[1;36m  Cell \u001b[1;32mIn[20], line 3\u001b[1;36m\u001b[0m\n\u001b[1;33m    for user, user_data in my_ordered_dict:\u001b[0m\n\u001b[1;37m                                           ^\u001b[0m\n\u001b[1;31mIndentationError\u001b[0m\u001b[1;31m:\u001b[0m expected an indented block\n"
     ]
    }
   ],
   "source": [
    "user_lb = {}\n",
    "\n",
    "for user, user_data in my_ordered_dict:\n",
    "    user_current_highest_cv = {'Character': 'None',\n",
    "                                'CV': 0}\n",
    "    \n",
    "    for character\n"
   ]
  }
 ],
 "metadata": {
  "kernelspec": {
   "display_name": "Python 3",
   "language": "python",
   "name": "python3"
  },
  "language_info": {
   "codemirror_mode": {
    "name": "ipython",
    "version": 3
   },
   "file_extension": ".py",
   "mimetype": "text/x-python",
   "name": "python",
   "nbconvert_exporter": "python",
   "pygments_lexer": "ipython3",
   "version": "3.9.0"
  },
  "orig_nbformat": 4,
  "vscode": {
   "interpreter": {
    "hash": "81794d4967e6c3204c66dcd87b604927b115b27c00565d3d43f05ba2f3a2cb0d"
   }
  }
 },
 "nbformat": 4,
 "nbformat_minor": 2
}
